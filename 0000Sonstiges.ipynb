{
 "cells": [
  {
   "cell_type": "code",
   "execution_count": null,
   "metadata": {},
   "outputs": [
    {
     "ename": "",
     "evalue": "",
     "output_type": "error",
     "traceback": [
      "\u001b[1;31mRunning cells with 'Python 3.11.9' requires the ipykernel package.\n",
      "\u001b[1;31mRun the following command to install 'ipykernel' into the Python environment. \n",
      "\u001b[1;31mCommand: 'c:/Users/ChiaraVogtMelian/AppData/Local/Microsoft/WindowsApps/python3.11.exe -m pip install ipykernel -U --user --force-reinstall'"
     ]
    }
   ],
   "source": [
    "import pandas as pd\n",
    "import numpy as np\n",
    "import seaborn as sns\n",
    "import matplotlib.pyplot as plt\n",
    "import matplotlib.ticker as mtick\n",
    "import sklearn\n",
    "from pypalettes import load_cmap\n",
    "# Festlegen der Farben\n",
    "cmap = load_cmap(\"Apricot\")\n"
   ]
  },
  {
   "cell_type": "code",
   "execution_count": null,
   "metadata": {},
   "outputs": [],
   "source": [
    "# Daten für das Jahr 2019\n",
    "data = {\n",
    "    'Jahr': [2019],\n",
    "    'Anrufe_gesamt': [1314113],\n",
    "    'Anzeigen': [85412],\n",
    "    'Informationen': [629585],\n",
    "    'Sonstige': [599116]\n",
    "}\n",
    "\n",
    "# DataFrame erstellen und Jahr als Index setzen\n",
    "df = pd.DataFrame(data)\n",
    "df.set_index('Jahr', inplace=True)"
   ]
  },
  {
   "cell_type": "code",
   "execution_count": null,
   "metadata": {},
   "outputs": [],
   "source": [
    "# Pie-Chart erstellen für die Spalten Anzeigen, Informationen und Sonstige\n",
    "df_plot = df[['Anzeigen', 'Informationen', 'Sonstige']]  # Auswahl der Spalten\n",
    "df_plot.loc[2019].plot(kind='pie', autopct='%1.1f%%', figsize=(8, 8), legend=True)\n",
    "\n",
    "# Titel hinzufügen\n",
    "plt.title('Verteilung der Anrufe im Jahr 2019')\n",
    "\n",
    "# Plot anzeigen\n",
    "plt.ylabel('')  # Entfernt das Label für die Y-Achse\n",
    "plt.show()"
   ]
  }
 ],
 "metadata": {
  "kernelspec": {
   "display_name": "Python 3",
   "language": "python",
   "name": "python3"
  },
  "language_info": {
   "name": "python",
   "version": "3.11.9"
  }
 },
 "nbformat": 4,
 "nbformat_minor": 2
}
